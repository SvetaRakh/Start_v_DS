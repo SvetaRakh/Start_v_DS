{
  "nbformat": 4,
  "nbformat_minor": 0,
  "metadata": {
    "colab": {
      "provenance": [],
      "include_colab_link": true
    },
    "kernelspec": {
      "name": "python3",
      "display_name": "Python 3"
    },
    "language_info": {
      "name": "python"
    }
  },
  "cells": [
    {
      "cell_type": "markdown",
      "metadata": {
        "id": "view-in-github",
        "colab_type": "text"
      },
      "source": [
        "<a href=\"https://colab.research.google.com/github/SvetaRakh/Start_v_DS/blob/main/Decorators/Decorators_homework_05.ipynb\" target=\"_parent\"><img src=\"https://colab.research.google.com/assets/colab-badge.svg\" alt=\"Open In Colab\"/></a>"
      ]
    },
    {
      "cell_type": "markdown",
      "source": [
        "# Домашнее задание: декораторы"
      ],
      "metadata": {
        "id": "QY4qPJPpgyIS"
      }
    },
    {
      "cell_type": "markdown",
      "source": [
        "1. Реализуйте декоратор benchmark(func), выводящий время, которое заняло выполнение декорируемой функции\n",
        "\n",
        "2. Реализуйте декоратор logging(func), который выводит параметры с которыми была вызвана функция\n",
        "\n",
        "3. Реализуйте декоратор counter(func), считающий и выводящий количество вызовов декорируемой функции\n",
        "\n",
        "4. Реализуйте декоратор memo(func), запоминающий результаты исполнения функции func, чьи аргументы *args должны быть хешируемыми. Сравните время выполнения рекурсивной реализации расчета чисел Фибоначчи без декоратора и с ним"
      ],
      "metadata": {
        "id": "SXqR6_u9x1cq"
      }
    },
    {
      "cell_type": "markdown",
      "source": [
        "## Импорт библиотек, установка констант"
      ],
      "metadata": {
        "id": "Chacc6YchldZ"
      }
    },
    {
      "cell_type": "code",
      "source": [
        "import requests\n",
        "import time\n",
        "import re\n",
        "\n",
        "import functools\n",
        "from functools import wraps\n",
        "\n",
        "from random import randint"
      ],
      "metadata": {
        "id": "w8iKrWvwhrFd"
      },
      "execution_count": null,
      "outputs": []
    },
    {
      "cell_type": "code",
      "source": [
        "BOOK_PATH = 'https://www.gutenberg.org/files/2638/2638-0.txt'"
      ],
      "metadata": {
        "id": "-LRkS0fSi8Np"
      },
      "execution_count": null,
      "outputs": []
    },
    {
      "cell_type": "markdown",
      "source": [
        "## Задание 1"
      ],
      "metadata": {
        "id": "kARfL8ifg4MH"
      }
    },
    {
      "cell_type": "code",
      "execution_count": null,
      "metadata": {
        "id": "hNHNWPhngrUl"
      },
      "outputs": [],
      "source": [
        "def benchmark(func):\n",
        "    \"\"\"\n",
        "    Декоратор, выводящий время, которое заняло выполнение декорируемой функции\n",
        "    \"\"\"\n",
        "    @wraps(func)\n",
        "    def wrapper(*args, **kwargs):\n",
        "        start = time.time()\n",
        "        return_value = func(*args, **kwargs)\n",
        "        end = time.time()\n",
        "        print(f'Время выполнения функции {func.__name__} составило {end - start:.6f} секунд')\n",
        "        print()\n",
        "        return return_value\n",
        "    return wrapper"
      ]
    },
    {
      "cell_type": "markdown",
      "source": [
        "## Задание 2"
      ],
      "metadata": {
        "id": "tGlbUKjihL5n"
      }
    },
    {
      "cell_type": "code",
      "source": [
        "def logging(func):\n",
        "    \"\"\"\n",
        "    Декоратор, который выводит параметры с которыми была вызвана функция\n",
        "    \"\"\"\n",
        "    @wraps(func)\n",
        "    def wrapper(*args, **kwargs):\n",
        "        fname = func.__name__                 # получение имени функции\n",
        "        result = func(*args, **kwargs)\n",
        "        print(f'Функция {fname} вызвана с параметрами: \\nargs: {args}, kwargs: {kwargs}\\n')\n",
        "        return result\n",
        "\n",
        "    return wrapper"
      ],
      "metadata": {
        "id": "wugOZDLqhNe-"
      },
      "execution_count": null,
      "outputs": []
    },
    {
      "cell_type": "markdown",
      "source": [
        "## Задание 3"
      ],
      "metadata": {
        "id": "Sq1tv5fshTfv"
      }
    },
    {
      "cell_type": "code",
      "source": [
        "def counter(func):\n",
        "    \"\"\"\n",
        "    Декоратор, считающий и выводящий количество вызовов декорируемой функции\n",
        "    \"\"\"\n",
        "    @wraps(func)\n",
        "    def wrapper(*args, **kwargs):\n",
        "        nonlocal w_cnt\n",
        "        result = func(*args, **kwargs)\n",
        "        w_cnt += 1\n",
        "        print(f'Функция {func.__name__} была вызвана: {w_cnt} раз')\n",
        "        print()\n",
        "        return result\n",
        "    w_cnt = 0\n",
        "    return wrapper"
      ],
      "metadata": {
        "id": "9nyvuxXkhVeb"
      },
      "execution_count": null,
      "outputs": []
    },
    {
      "cell_type": "markdown",
      "source": [
        "## Задание 4"
      ],
      "metadata": {
        "id": "uHn8Adfshz5q"
      }
    },
    {
      "cell_type": "code",
      "source": [
        "def memo(func):\n",
        "  \"\"\"\n",
        "  Декоратор, запоминающий результаты исполнения функции func, чьи аргументы args должны быть хешируемыми\n",
        "  \"\"\"\n",
        "  cache = {}\n",
        "\n",
        "  def fmemo(*args):\n",
        "      if args in cache:\n",
        "         return cache[args]\n",
        "      result = func(*args)\n",
        "      cache[args] = result\n",
        "      return result\n",
        "\n",
        "  fmemo.cache = cache\n",
        "  return fmemo"
      ],
      "metadata": {
        "id": "R7uu6WtGifNX"
      },
      "execution_count": null,
      "outputs": []
    },
    {
      "cell_type": "markdown",
      "source": [
        "## Тестирование"
      ],
      "metadata": {
        "id": "Zn5UQCa_izxo"
      }
    },
    {
      "cell_type": "code",
      "source": [
        "@counter\n",
        "@logging\n",
        "@benchmark\n",
        "def word_count(word, url=BOOK_PATH):\n",
        "    \"\"\"\n",
        "    Функция для посчета указанного слова на html-странице\n",
        "    \"\"\"\n",
        "\n",
        "    # отправляем запрос в библиотеку Gutenberg и забираем текст\n",
        "    raw = requests.get(url).text\n",
        "\n",
        "    # заменяем в тексте все небуквенные символы на пробелы\n",
        "    processed_book = re.sub('[\\W]+' , ' ', raw).lower()\n",
        "\n",
        "    # считаем\n",
        "    cnt = len(re.findall(word.lower(), processed_book))\n",
        "\n",
        "    return f\"Cлово {word} встречается {cnt} раз\"\n",
        "\n",
        "print(word_count('whole'))"
      ],
      "metadata": {
        "id": "CHCJ64I8i2QB",
        "colab": {
          "base_uri": "https://localhost:8080/"
        },
        "outputId": "c5f09238-601f-4c57-e20e-5ad7a7f82f17"
      },
      "execution_count": null,
      "outputs": [
        {
          "output_type": "stream",
          "name": "stdout",
          "text": [
            "Время выполнения функции word_count составило 0.809189 секунд\n",
            "\n",
            "Функция word_count вызвана с параметрами: \n",
            "args: ('whole',), kwargs: {}\n",
            "\n",
            "Функция word_count была вызвана: 1 раз\n",
            "\n",
            "Cлово whole встречается 176 раз\n"
          ]
        }
      ]
    },
    {
      "cell_type": "code",
      "source": [
        "# декоратор для рекурсивной функции\n",
        "def benchmark_recur(func, currently_evaluating=set()):\n",
        "    \"\"\"\n",
        "    Декоратор, выводящий общее время выполнения декорируемой рекурсивной функции\n",
        "    \"\"\"\n",
        "    is_evaluating = False\n",
        "    def wrapper(*args, **kwargs):\n",
        "        nonlocal is_evaluating\n",
        "        if is_evaluating:\n",
        "            return func(*args, **kwargs)\n",
        "        else:\n",
        "            start_time = time.perf_counter()\n",
        "            is_evaluating = True\n",
        "            try:\n",
        "                return_value = func(*args, **kwargs)\n",
        "            finally:\n",
        "                is_evaluating = False\n",
        "            end_time = time.perf_counter()\n",
        "            diff = end_time - start_time\n",
        "            print(f'Общее время выполнения функции {func.__name__}{args} составило {end_time - start_time:.6f} секунд')\n",
        "            return return_value\n",
        "    return wrapper"
      ],
      "metadata": {
        "id": "ZJ-O5yv8L9HL"
      },
      "execution_count": null,
      "outputs": []
    },
    {
      "cell_type": "code",
      "source": [
        "@benchmark_recur\n",
        "def fib(n):\n",
        "    if n < 2:\n",
        "        return n\n",
        "    return fib(n-2) + fib(n-1)"
      ],
      "metadata": {
        "id": "ZE4Rfn-hh3k3"
      },
      "execution_count": null,
      "outputs": []
    },
    {
      "cell_type": "code",
      "source": [
        "# измеряем время выполнения\n",
        "fib(15)"
      ],
      "metadata": {
        "id": "Io94NyjiiXG4",
        "colab": {
          "base_uri": "https://localhost:8080/"
        },
        "outputId": "cf722911-2855-4d82-fed9-363da40cfcb2"
      },
      "execution_count": null,
      "outputs": [
        {
          "output_type": "stream",
          "name": "stdout",
          "text": [
            "Общее время выполнения функции fib(15,) составило 0.001117 секунд\n"
          ]
        },
        {
          "output_type": "execute_result",
          "data": {
            "text/plain": [
              "610"
            ]
          },
          "metadata": {},
          "execution_count": 10
        }
      ]
    },
    {
      "cell_type": "code",
      "source": [
        "@benchmark_recur\n",
        "@memo\n",
        "def fib(n):\n",
        "    if n < 2:\n",
        "        return n\n",
        "    return fib(n-2) + fib(n-1)"
      ],
      "metadata": {
        "id": "W9B3e-t9iTUj"
      },
      "execution_count": null,
      "outputs": []
    },
    {
      "cell_type": "code",
      "source": [
        "# измеряем время выполнения\n",
        "fib(15)"
      ],
      "metadata": {
        "id": "Sk6_4KQaidkh",
        "colab": {
          "base_uri": "https://localhost:8080/"
        },
        "outputId": "080671f4-1016-4f2d-b401-34e4e4c12f5f"
      },
      "execution_count": null,
      "outputs": [
        {
          "output_type": "stream",
          "name": "stdout",
          "text": [
            "Общее время выполнения функции fmemo(15,) составило 0.000065 секунд\n"
          ]
        },
        {
          "output_type": "execute_result",
          "data": {
            "text/plain": [
              "610"
            ]
          },
          "metadata": {},
          "execution_count": 12
        }
      ]
    }
  ]
}